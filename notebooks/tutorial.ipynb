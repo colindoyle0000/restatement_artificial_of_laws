{
 "cells": [
  {
   "cell_type": "markdown",
   "metadata": {},
   "source": [
    "# Installs & Imports"
   ]
  },
  {
   "cell_type": "code",
   "execution_count": null,
   "metadata": {},
   "outputs": [],
   "source": [
    "%pip install langchain tiktoken openai chromadb pyth striprtf pytest"
   ]
  },
  {
   "cell_type": "code",
   "execution_count": null,
   "metadata": {},
   "outputs": [],
   "source": [
    "%pip install --upgrade pip setuptools wheel"
   ]
  },
  {
   "cell_type": "code",
   "execution_count": 4,
   "metadata": {},
   "outputs": [],
   "source": [
    "%load_ext autoreload\n",
    "%autoreload 2"
   ]
  },
  {
   "cell_type": "code",
   "execution_count": 5,
   "metadata": {},
   "outputs": [],
   "source": [
    "import sys"
   ]
  },
  {
   "cell_type": "code",
   "execution_count": 6,
   "metadata": {},
   "outputs": [],
   "source": [
    "import logging"
   ]
  },
  {
   "cell_type": "code",
   "execution_count": 7,
   "metadata": {},
   "outputs": [],
   "source": [
    "# Add the root directory to the path\n",
    "\n",
    "sys.path.insert(0, '../')"
   ]
  },
  {
   "cell_type": "markdown",
   "metadata": {},
   "source": [
    "## Import Functions"
   ]
  },
  {
   "cell_type": "markdown",
   "metadata": {},
   "source": [
    "### Basic Configuration"
   ]
  },
  {
   "cell_type": "markdown",
   "metadata": {},
   "source": [
    "Set your OpenAI API key so that you can make requests to ChatGPT to build components of your Restatement (Artificial).\n",
    "If you don't have an API key, you can sign up here: https://openai.com/product.\n",
    "\n",
    "If you'd prefer to use a different large language model, you can make those changes within utils_llm.py"
   ]
  },
  {
   "cell_type": "code",
   "execution_count": 8,
   "metadata": {},
   "outputs": [
    {
     "ename": "ModuleNotFoundError",
     "evalue": "No module named 'utils_file'",
     "output_type": "error",
     "traceback": [
      "\u001b[0;31m---------------------------------------------------------------------------\u001b[0m",
      "\u001b[0;31mModuleNotFoundError\u001b[0m                       Traceback (most recent call last)",
      "\u001b[1;32m/Users/colindoyle/Documents/_research/restatement/python/restatement_artificial_of_laws/notebooks/tutorial.ipynb Cell 12\u001b[0m line \u001b[0;36m1\n\u001b[0;32m----> <a href='vscode-notebook-cell:/Users/colindoyle/Documents/_research/restatement/python/restatement_artificial_of_laws/notebooks/tutorial.ipynb#X13sZmlsZQ%3D%3D?line=0'>1</a>\u001b[0m \u001b[39mfrom\u001b[39;00m \u001b[39msrc\u001b[39;00m\u001b[39m.\u001b[39;00m\u001b[39mutils_llm\u001b[39;00m \u001b[39mimport\u001b[39;00m(\n\u001b[1;32m      <a href='vscode-notebook-cell:/Users/colindoyle/Documents/_research/restatement/python/restatement_artificial_of_laws/notebooks/tutorial.ipynb#X13sZmlsZQ%3D%3D?line=1'>2</a>\u001b[0m     set_openai_key,\n\u001b[1;32m      <a href='vscode-notebook-cell:/Users/colindoyle/Documents/_research/restatement/python/restatement_artificial_of_laws/notebooks/tutorial.ipynb#X13sZmlsZQ%3D%3D?line=2'>3</a>\u001b[0m     get_models\n\u001b[1;32m      <a href='vscode-notebook-cell:/Users/colindoyle/Documents/_research/restatement/python/restatement_artificial_of_laws/notebooks/tutorial.ipynb#X13sZmlsZQ%3D%3D?line=3'>4</a>\u001b[0m     )\n",
      "File \u001b[0;32m~/Documents/_research/restatement/python/restatement_artificial_of_laws/notebooks/../src/utils_llm.py:40\u001b[0m\n\u001b[1;32m     38\u001b[0m \u001b[39mfrom\u001b[39;00m \u001b[39mlangchain\u001b[39;00m\u001b[39m.\u001b[39;00m\u001b[39mdocument_loaders\u001b[39;00m \u001b[39mimport\u001b[39;00m TextLoader\n\u001b[1;32m     39\u001b[0m \u001b[39mfrom\u001b[39;00m \u001b[39mlangchain\u001b[39;00m\u001b[39m.\u001b[39;00m\u001b[39mvectorstores\u001b[39;00m \u001b[39mimport\u001b[39;00m Chroma\n\u001b[0;32m---> 40\u001b[0m \u001b[39mfrom\u001b[39;00m \u001b[39mutils_file\u001b[39;00m \u001b[39mimport\u001b[39;00m get_root_dir\n\u001b[1;32m     42\u001b[0m \u001b[39m# Set up logger\u001b[39;00m\n\u001b[1;32m     43\u001b[0m logger \u001b[39m=\u001b[39m logging\u001b[39m.\u001b[39mgetLogger(\u001b[39m'\u001b[39m\u001b[39mrestatement\u001b[39m\u001b[39m'\u001b[39m)\n",
      "\u001b[0;31mModuleNotFoundError\u001b[0m: No module named 'utils_file'"
     ]
    }
   ],
   "source": [
    "from src.utils_llm import(\n",
    "    set_openai_key,\n",
    "    get_models\n",
    "    )"
   ]
  },
  {
   "cell_type": "code",
   "execution_count": null,
   "metadata": {},
   "outputs": [],
   "source": [
    "OPENAI_API_KEY=set_openai_key()"
   ]
  },
  {
   "cell_type": "code",
   "execution_count": null,
   "metadata": {},
   "outputs": [],
   "source": [
    "get_models()"
   ]
  },
  {
   "cell_type": "code",
   "execution_count": null,
   "metadata": {},
   "outputs": [],
   "source": [
    "from src import setup_logging\n",
    "\n",
    "setup_logging.setup_logger()\n",
    "logger = logging.getLogger('restatement')\n",
    "logger.info('This is an info message')"
   ]
  },
  {
   "cell_type": "markdown",
   "metadata": {},
   "source": [
    "## Import Classes"
   ]
  },
  {
   "cell_type": "code",
   "execution_count": null,
   "metadata": {},
   "outputs": [],
   "source": [
    "from section import Section\n",
    "from loadcases import LoadCases\n",
    "from briefcases import BriefCases\n",
    "from extract import Extract\n",
    "from discern import Discern\n",
    "from resolve import Resolve\n",
    "from comment import Comment\n",
    "from illustration import Illustration\n",
    "from reporter import Reporter"
   ]
  },
  {
   "cell_type": "markdown",
   "metadata": {},
   "source": [
    "# Trespass Test\n",
    "\n",
    "This runs through the whole process of building a Section of a Restatement using a limited number of cases (10) to save on time and API expenses."
   ]
  },
  {
   "cell_type": "code",
   "execution_count": null,
   "metadata": {},
   "outputs": [],
   "source": [
    "trespass = Section()"
   ]
  },
  {
   "cell_type": "code",
   "execution_count": null,
   "metadata": {},
   "outputs": [],
   "source": [
    "trespass.set_section_title(\"§52. Duty of Land Possessors to Flagrant Trespassers\")\n",
    "trespass.set_area_of_law(\"Torts\")\n",
    "trespass.set_description(\"\"\"This Section is within a Chapter that addresses the special case of the duty owed by land possessors. \n",
    "The chapter addresses the historical status-based system of imposing duties, recognizes the evolution away from that system, and \n",
    "adopts rules reflecting reforms in land-possessor duties. The Chapter also reconciles the tension between the ordinary duty of \n",
    "reasonable care and a landowner's right of exclusive possession of the land. \n",
    "\"\"\")"
   ]
  },
  {
   "cell_type": "code",
   "execution_count": null,
   "metadata": {},
   "outputs": [],
   "source": [
    "trespass.set_path()"
   ]
  },
  {
   "cell_type": "code",
   "execution_count": null,
   "metadata": {},
   "outputs": [],
   "source": [
    "trespass.set_cases_folder(\"trespass_test\")"
   ]
  },
  {
   "cell_type": "code",
   "execution_count": null,
   "metadata": {},
   "outputs": [],
   "source": [
    "trespass.process_load_cases()"
   ]
  },
  {
   "cell_type": "code",
   "execution_count": null,
   "metadata": {},
   "outputs": [],
   "source": [
    "trespass.process_brief_cases()"
   ]
  },
  {
   "cell_type": "code",
   "execution_count": null,
   "metadata": {},
   "outputs": [],
   "source": [
    "trespass.briefcases.save_to_md()"
   ]
  },
  {
   "cell_type": "code",
   "execution_count": null,
   "metadata": {},
   "outputs": [],
   "source": [
    "trespass.process_extract()"
   ]
  },
  {
   "cell_type": "code",
   "execution_count": null,
   "metadata": {},
   "outputs": [],
   "source": [
    "trespass.process_discern()"
   ]
  },
  {
   "cell_type": "code",
   "execution_count": null,
   "metadata": {},
   "outputs": [],
   "source": [
    "trespass.process_comment()"
   ]
  },
  {
   "cell_type": "code",
   "execution_count": null,
   "metadata": {},
   "outputs": [],
   "source": [
    "trespass.process_illustration()"
   ]
  }
 ],
 "metadata": {
  "kernelspec": {
   "display_name": "base",
   "language": "python",
   "name": "python3"
  },
  "language_info": {
   "codemirror_mode": {
    "name": "ipython",
    "version": 3
   },
   "file_extension": ".py",
   "mimetype": "text/x-python",
   "name": "python",
   "nbconvert_exporter": "python",
   "pygments_lexer": "ipython3",
   "version": "3.8.18"
  },
  "orig_nbformat": 4
 },
 "nbformat": 4,
 "nbformat_minor": 2
}
